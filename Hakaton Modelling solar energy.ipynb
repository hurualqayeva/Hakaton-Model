{
 "cells": [
  {
   "cell_type": "markdown",
   "id": "459b4363",
   "metadata": {},
   "source": [
    "# Lazım olan kitabxanaların əlavə edilməsi"
   ]
  },
  {
   "cell_type": "code",
   "execution_count": 1,
   "id": "c99b9013",
   "metadata": {},
   "outputs": [],
   "source": [
    "import pandas as pd"
   ]
  },
  {
   "cell_type": "code",
   "execution_count": 35,
   "id": "fdc55ba2",
   "metadata": {},
   "outputs": [],
   "source": [
    "data=pd.read_excel('../Downloads/Data_.xlsx')"
   ]
  },
  {
   "cell_type": "code",
   "execution_count": 36,
   "id": "8d3a156f",
   "metadata": {},
   "outputs": [],
   "source": [
    "data.dropna(axis=1,inplace=True)"
   ]
  },
  {
   "cell_type": "code",
   "execution_count": 37,
   "id": "833bab53",
   "metadata": {},
   "outputs": [
    {
     "data": {
      "text/html": [
       "<div><div id=178ff2c5-caff-4ed0-aa79-2e232b079b4f style=\"display:none; background-color:#9D6CFF; color:white; width:200px; height:30px; padding-left:5px; border-radius:4px; flex-direction:row; justify-content:space-around; align-items:center;\" onmouseover=\"this.style.backgroundColor='#BA9BF8'\" onmouseout=\"this.style.backgroundColor='#9D6CFF'\" onclick=\"window.commands?.execute('create-mitosheet-from-dataframe-output');\">See Full Dataframe in Mito</div> <script> if (window.commands?.hasCommand('create-mitosheet-from-dataframe-output')) document.getElementById('178ff2c5-caff-4ed0-aa79-2e232b079b4f').style.display = 'flex' </script> <table border=\"1\" class=\"dataframe\">\n",
       "  <thead>\n",
       "    <tr style=\"text-align: right;\">\n",
       "      <th></th>\n",
       "      <th>Unnamed: 0</th>\n",
       "      <th>Date</th>\n",
       "      <th>seher temprator</th>\n",
       "      <th>axsam temp</th>\n",
       "      <th>Seher</th>\n",
       "      <th>Istifade edilen enerji her aile ucun (kwh) per hour</th>\n",
       "      <th>Gunesli saat sayi</th>\n",
       "      <th>solar intensity</th>\n",
       "      <th>solar panel per hour</th>\n",
       "      <th>Solar panel output</th>\n",
       "      <th>Altitute</th>\n",
       "      <th>Windspeed</th>\n",
       "    </tr>\n",
       "  </thead>\n",
       "  <tbody>\n",
       "    <tr>\n",
       "      <th>0</th>\n",
       "      <td>0</td>\n",
       "      <td>2022-07-01</td>\n",
       "      <td>35</td>\n",
       "      <td>30</td>\n",
       "      <td>Laçın</td>\n",
       "      <td>1122</td>\n",
       "      <td>6</td>\n",
       "      <td>1123</td>\n",
       "      <td>345</td>\n",
       "      <td>1552.50</td>\n",
       "      <td>1032</td>\n",
       "      <td>9</td>\n",
       "    </tr>\n",
       "    <tr>\n",
       "      <th>1</th>\n",
       "      <td>1</td>\n",
       "      <td>2022-07-02</td>\n",
       "      <td>33</td>\n",
       "      <td>16</td>\n",
       "      <td>Kəlbəcər</td>\n",
       "      <td>276</td>\n",
       "      <td>8</td>\n",
       "      <td>1400</td>\n",
       "      <td>326</td>\n",
       "      <td>1956.00</td>\n",
       "      <td>999</td>\n",
       "      <td>9</td>\n",
       "    </tr>\n",
       "    <tr>\n",
       "      <th>2</th>\n",
       "      <td>2</td>\n",
       "      <td>2022-07-03</td>\n",
       "      <td>36</td>\n",
       "      <td>11</td>\n",
       "      <td>Ağdam</td>\n",
       "      <td>873</td>\n",
       "      <td>9</td>\n",
       "      <td>1513</td>\n",
       "      <td>294</td>\n",
       "      <td>1984.50</td>\n",
       "      <td>1045</td>\n",
       "      <td>6</td>\n",
       "    </tr>\n",
       "    <tr>\n",
       "      <th>3</th>\n",
       "      <td>3</td>\n",
       "      <td>2022-07-04</td>\n",
       "      <td>35</td>\n",
       "      <td>23</td>\n",
       "      <td>Laçın</td>\n",
       "      <td>1271</td>\n",
       "      <td>7</td>\n",
       "      <td>1336</td>\n",
       "      <td>303</td>\n",
       "      <td>1590.75</td>\n",
       "      <td>955</td>\n",
       "      <td>10</td>\n",
       "    </tr>\n",
       "    <tr>\n",
       "      <th>4</th>\n",
       "      <td>4</td>\n",
       "      <td>2022-07-05</td>\n",
       "      <td>33</td>\n",
       "      <td>11</td>\n",
       "      <td>Ağdam</td>\n",
       "      <td>509</td>\n",
       "      <td>7</td>\n",
       "      <td>1565</td>\n",
       "      <td>292</td>\n",
       "      <td>1533.00</td>\n",
       "      <td>1054</td>\n",
       "      <td>6</td>\n",
       "    </tr>\n",
       "  </tbody>\n",
       "</table></div>"
      ],
      "text/plain": [
       "   Unnamed: 0       Date  seher temprator  axsam temp     Seher  \\\n",
       "0           0 2022-07-01               35          30     Laçın   \n",
       "1           1 2022-07-02               33          16  Kəlbəcər   \n",
       "2           2 2022-07-03               36          11     Ağdam   \n",
       "3           3 2022-07-04               35          23     Laçın   \n",
       "4           4 2022-07-05               33          11     Ağdam   \n",
       "\n",
       "   Istifade edilen enerji her aile ucun (kwh) per hour  Gunesli saat sayi  \\\n",
       "0                                               1122                    6   \n",
       "1                                                276                    8   \n",
       "2                                                873                    9   \n",
       "3                                               1271                    7   \n",
       "4                                                509                    7   \n",
       "\n",
       "   solar intensity  solar panel per hour  Solar panel output  Altitute  \\\n",
       "0             1123                   345             1552.50      1032   \n",
       "1             1400                   326             1956.00       999   \n",
       "2             1513                   294             1984.50      1045   \n",
       "3             1336                   303             1590.75       955   \n",
       "4             1565                   292             1533.00      1054   \n",
       "\n",
       "   Windspeed  \n",
       "0          9  \n",
       "1          9  \n",
       "2          6  \n",
       "3         10  \n",
       "4          6  "
      ]
     },
     "execution_count": 37,
     "metadata": {},
     "output_type": "execute_result"
    }
   ],
   "source": [
    "data.head()"
   ]
  },
  {
   "cell_type": "markdown",
   "id": "80f2cc5d",
   "metadata": {},
   "source": [
    "# Datanın modelləmə üçün hazırlıq mərhələsi"
   ]
  },
  {
   "cell_type": "code",
   "execution_count": 38,
   "id": "530c03b3",
   "metadata": {},
   "outputs": [],
   "source": [
    "data = pd.get_dummies(data, columns=['Seher'], drop_first=True)"
   ]
  },
  {
   "cell_type": "code",
   "execution_count": 39,
   "id": "d9300a73",
   "metadata": {},
   "outputs": [
    {
     "data": {
      "text/html": [
       "<div><div id=cc873cef-fdee-44fc-804d-f0bf19ce1331 style=\"display:none; background-color:#9D6CFF; color:white; width:200px; height:30px; padding-left:5px; border-radius:4px; flex-direction:row; justify-content:space-around; align-items:center;\" onmouseover=\"this.style.backgroundColor='#BA9BF8'\" onmouseout=\"this.style.backgroundColor='#9D6CFF'\" onclick=\"window.commands?.execute('create-mitosheet-from-dataframe-output');\">See Full Dataframe in Mito</div> <script> if (window.commands?.hasCommand('create-mitosheet-from-dataframe-output')) document.getElementById('cc873cef-fdee-44fc-804d-f0bf19ce1331').style.display = 'flex' </script> <table border=\"1\" class=\"dataframe\">\n",
       "  <thead>\n",
       "    <tr style=\"text-align: right;\">\n",
       "      <th></th>\n",
       "      <th>Unnamed: 0</th>\n",
       "      <th>Date</th>\n",
       "      <th>seher temprator</th>\n",
       "      <th>axsam temp</th>\n",
       "      <th>Istifade edilen enerji her aile ucun (kwh) per hour</th>\n",
       "      <th>Gunesli saat sayi</th>\n",
       "      <th>solar intensity</th>\n",
       "      <th>solar panel per hour</th>\n",
       "      <th>Solar panel output</th>\n",
       "      <th>Altitute</th>\n",
       "      <th>...</th>\n",
       "      <th>Seher_Cəbrayıl</th>\n",
       "      <th>Seher_Füzuli</th>\n",
       "      <th>Seher_Kəlbəcər</th>\n",
       "      <th>Seher_Laçın</th>\n",
       "      <th>Seher_Qubadlı</th>\n",
       "      <th>Seher_Xankəndi</th>\n",
       "      <th>Seher_Xocalı</th>\n",
       "      <th>Seher_Xocavənd</th>\n",
       "      <th>Seher_Zəngilan</th>\n",
       "      <th>Seher_Şuşa</th>\n",
       "    </tr>\n",
       "  </thead>\n",
       "  <tbody>\n",
       "    <tr>\n",
       "      <th>0</th>\n",
       "      <td>0</td>\n",
       "      <td>2022-07-01</td>\n",
       "      <td>35</td>\n",
       "      <td>30</td>\n",
       "      <td>1122</td>\n",
       "      <td>6</td>\n",
       "      <td>1123</td>\n",
       "      <td>345</td>\n",
       "      <td>1552.50</td>\n",
       "      <td>1032</td>\n",
       "      <td>...</td>\n",
       "      <td>0</td>\n",
       "      <td>0</td>\n",
       "      <td>0</td>\n",
       "      <td>1</td>\n",
       "      <td>0</td>\n",
       "      <td>0</td>\n",
       "      <td>0</td>\n",
       "      <td>0</td>\n",
       "      <td>0</td>\n",
       "      <td>0</td>\n",
       "    </tr>\n",
       "    <tr>\n",
       "      <th>1</th>\n",
       "      <td>1</td>\n",
       "      <td>2022-07-02</td>\n",
       "      <td>33</td>\n",
       "      <td>16</td>\n",
       "      <td>276</td>\n",
       "      <td>8</td>\n",
       "      <td>1400</td>\n",
       "      <td>326</td>\n",
       "      <td>1956.00</td>\n",
       "      <td>999</td>\n",
       "      <td>...</td>\n",
       "      <td>0</td>\n",
       "      <td>0</td>\n",
       "      <td>1</td>\n",
       "      <td>0</td>\n",
       "      <td>0</td>\n",
       "      <td>0</td>\n",
       "      <td>0</td>\n",
       "      <td>0</td>\n",
       "      <td>0</td>\n",
       "      <td>0</td>\n",
       "    </tr>\n",
       "    <tr>\n",
       "      <th>2</th>\n",
       "      <td>2</td>\n",
       "      <td>2022-07-03</td>\n",
       "      <td>36</td>\n",
       "      <td>11</td>\n",
       "      <td>873</td>\n",
       "      <td>9</td>\n",
       "      <td>1513</td>\n",
       "      <td>294</td>\n",
       "      <td>1984.50</td>\n",
       "      <td>1045</td>\n",
       "      <td>...</td>\n",
       "      <td>0</td>\n",
       "      <td>0</td>\n",
       "      <td>0</td>\n",
       "      <td>0</td>\n",
       "      <td>0</td>\n",
       "      <td>0</td>\n",
       "      <td>0</td>\n",
       "      <td>0</td>\n",
       "      <td>0</td>\n",
       "      <td>0</td>\n",
       "    </tr>\n",
       "    <tr>\n",
       "      <th>3</th>\n",
       "      <td>3</td>\n",
       "      <td>2022-07-04</td>\n",
       "      <td>35</td>\n",
       "      <td>23</td>\n",
       "      <td>1271</td>\n",
       "      <td>7</td>\n",
       "      <td>1336</td>\n",
       "      <td>303</td>\n",
       "      <td>1590.75</td>\n",
       "      <td>955</td>\n",
       "      <td>...</td>\n",
       "      <td>0</td>\n",
       "      <td>0</td>\n",
       "      <td>0</td>\n",
       "      <td>1</td>\n",
       "      <td>0</td>\n",
       "      <td>0</td>\n",
       "      <td>0</td>\n",
       "      <td>0</td>\n",
       "      <td>0</td>\n",
       "      <td>0</td>\n",
       "    </tr>\n",
       "    <tr>\n",
       "      <th>4</th>\n",
       "      <td>4</td>\n",
       "      <td>2022-07-05</td>\n",
       "      <td>33</td>\n",
       "      <td>11</td>\n",
       "      <td>509</td>\n",
       "      <td>7</td>\n",
       "      <td>1565</td>\n",
       "      <td>292</td>\n",
       "      <td>1533.00</td>\n",
       "      <td>1054</td>\n",
       "      <td>...</td>\n",
       "      <td>0</td>\n",
       "      <td>0</td>\n",
       "      <td>0</td>\n",
       "      <td>0</td>\n",
       "      <td>0</td>\n",
       "      <td>0</td>\n",
       "      <td>0</td>\n",
       "      <td>0</td>\n",
       "      <td>0</td>\n",
       "      <td>0</td>\n",
       "    </tr>\n",
       "  </tbody>\n",
       "</table></div>"
      ],
      "text/plain": [
       "   Unnamed: 0       Date  seher temprator  axsam temp  \\\n",
       "0           0 2022-07-01               35          30   \n",
       "1           1 2022-07-02               33          16   \n",
       "2           2 2022-07-03               36          11   \n",
       "3           3 2022-07-04               35          23   \n",
       "4           4 2022-07-05               33          11   \n",
       "\n",
       "   Istifade edilen enerji her aile ucun (kwh) per hour  Gunesli saat sayi  \\\n",
       "0                                               1122                    6   \n",
       "1                                                276                    8   \n",
       "2                                                873                    9   \n",
       "3                                               1271                    7   \n",
       "4                                                509                    7   \n",
       "\n",
       "   solar intensity  solar panel per hour  Solar panel output  Altitute  ...  \\\n",
       "0             1123                   345             1552.50      1032  ...   \n",
       "1             1400                   326             1956.00       999  ...   \n",
       "2             1513                   294             1984.50      1045  ...   \n",
       "3             1336                   303             1590.75       955  ...   \n",
       "4             1565                   292             1533.00      1054  ...   \n",
       "\n",
       "   Seher_Cəbrayıl  Seher_Füzuli  Seher_Kəlbəcər  Seher_Laçın  Seher_Qubadlı  \\\n",
       "0               0             0               0            1              0   \n",
       "1               0             0               1            0              0   \n",
       "2               0             0               0            0              0   \n",
       "3               0             0               0            1              0   \n",
       "4               0             0               0            0              0   \n",
       "\n",
       "   Seher_Xankəndi  Seher_Xocalı  Seher_Xocavənd  Seher_Zəngilan  Seher_Şuşa  \n",
       "0               0             0               0               0           0  \n",
       "1               0             0               0               0           0  \n",
       "2               0             0               0               0           0  \n",
       "3               0             0               0               0           0  \n",
       "4               0             0               0               0           0  \n",
       "\n",
       "[5 rows x 21 columns]"
      ]
     },
     "execution_count": 39,
     "metadata": {},
     "output_type": "execute_result"
    }
   ],
   "source": [
    "data.head()"
   ]
  },
  {
   "cell_type": "code",
   "execution_count": 40,
   "id": "0d7f8be6",
   "metadata": {},
   "outputs": [],
   "source": [
    "data['year']=pd.DatetimeIndex(data['Date']).year\n",
    "data['month']=pd.DatetimeIndex(data['Date']).month\n",
    "data['day']=pd.DatetimeIndex(data['Date']).day"
   ]
  },
  {
   "cell_type": "code",
   "execution_count": 41,
   "id": "d8a20ed2",
   "metadata": {},
   "outputs": [],
   "source": [
    "data.drop(['Date','Unnamed: 0'],axis=1,inplace=True)"
   ]
  },
  {
   "cell_type": "code",
   "execution_count": 9,
   "id": "8d25d028",
   "metadata": {},
   "outputs": [],
   "source": [
    "X=data.drop('Solar panel output',axis=1)\n",
    "y=data['Solar panel output']"
   ]
  },
  {
   "cell_type": "markdown",
   "id": "7f65338e",
   "metadata": {},
   "source": [
    "# Model qurma"
   ]
  },
  {
   "cell_type": "markdown",
   "id": "5b98c1ac",
   "metadata": {},
   "source": [
    "Daha dəqiq nəticələr əldə etmək üçün ensemble learning texnikasından istifadə etdim."
   ]
  },
  {
   "cell_type": "markdown",
   "id": "71c6c6da",
   "metadata": {},
   "source": [
    "Modeldə də strukturlu datada ən yaxşı nəticə verənlərin \"tree based\" olduğunu nəzərə alaraq RandomForest və XGboostdan istifadə etdim"
   ]
  },
  {
   "cell_type": "code",
   "execution_count": 10,
   "id": "e1f8091d",
   "metadata": {},
   "outputs": [],
   "source": [
    "from sklearn.model_selection import cross_validate\n",
    "from xgboost import XGBRegressor\n",
    "model=XGBRegressor()"
   ]
  },
  {
   "cell_type": "code",
   "execution_count": 12,
   "id": "9c5ba176",
   "metadata": {},
   "outputs": [],
   "source": [
    "from sklearn.ensemble import RandomForestRegressor\n",
    "regr = RandomForestRegressor(n_estimators=125,n_jobs=-1)"
   ]
  },
  {
   "cell_type": "code",
   "execution_count": 13,
   "id": "c4e49257",
   "metadata": {},
   "outputs": [],
   "source": [
    "from sklearn.ensemble import RandomForestClassifier, VotingRegressor\n",
    "eclf1 = VotingRegressor(estimators=[ ('XGB', model), ('rf', regr)])\n",
    "cross_validate(eclf1, X_train, y_train, cv=5, return_train_score=True,n_jobs=-1)\n",
    "eclf1 = eclf1.fit(X_train, y_train)\n",
    "pred_ens=eclf1.predict(X_test)"
   ]
  },
  {
   "cell_type": "code",
   "execution_count": 14,
   "id": "46897944",
   "metadata": {},
   "outputs": [],
   "source": [
    "model = model.fit(X_train, y_train)\n",
    "pred=model.predict(X_test)"
   ]
  },
  {
   "cell_type": "code",
   "execution_count": 22,
   "id": "3c6d4516",
   "metadata": {
    "scrolled": false
   },
   "outputs": [],
   "source": [
    "X_test['Predicted']=pred"
   ]
  },
  {
   "cell_type": "code",
   "execution_count": 23,
   "id": "d660a29e",
   "metadata": {},
   "outputs": [],
   "source": [
    "X_test.to_excel('data_predocted.xlsx')"
   ]
  },
  {
   "cell_type": "code",
   "execution_count": null,
   "id": "9851ec25",
   "metadata": {},
   "outputs": [],
   "source": []
  },
  {
   "cell_type": "markdown",
   "id": "b7d0468a",
   "metadata": {},
   "source": [
    "# Api ilə weblə əlaqə qurmaq"
   ]
  },
  {
   "cell_type": "code",
   "execution_count": 17,
   "id": "95c02969",
   "metadata": {},
   "outputs": [],
   "source": [
    "import joblib"
   ]
  },
  {
   "cell_type": "code",
   "execution_count": 24,
   "id": "981ec212",
   "metadata": {
    "scrolled": true
   },
   "outputs": [
    {
     "data": {
      "text/plain": [
       "['Xgboost']"
      ]
     },
     "execution_count": 24,
     "metadata": {},
     "output_type": "execute_result"
    }
   ],
   "source": [
    "joblib.dump(model,'Xgboost')"
   ]
  },
  {
   "cell_type": "code",
   "execution_count": 29,
   "id": "23d94285",
   "metadata": {},
   "outputs": [],
   "source": [
    "from flask import Flask,request\n",
    "from flask_restful import Resource, Api\n",
    "import pickle\n",
    "import pandas as pd\n",
    "from flask_cors import CORS\n",
    "\n",
    "\n",
    "app = Flask(__name__)\n",
    "#\n",
    "CORS(app)\n",
    "# creating an API object\n",
    "api = Api(app)\n",
    "\n",
    "#prediction api call\n",
    "class prediction(Resource):\n",
    "    def get(self,seher_temprator, axsam_temp,aile,Gunesli_saat,intensity, per_hour,Altitute, Windspeed):\n",
    "        #budget = request.args.get('budget')\n",
    "        \n",
    "        print(budget)\n",
    "        # Let's load the package\n",
    "        seher_temprator= [int(seher_temprator)]\n",
    "        axsam_temp=[int(axsam_temp)]\n",
    "        aile= [int(aile)]\n",
    "        Gunesli_saat= [int(Gunesli_saat)]\n",
    "        intensity= [int(intensity)]\n",
    "        per_hour= [int(per_hour)]\n",
    "        Altitute= [int(Altitute)]\n",
    "        Windspeed= [int(Windspeed)]\n",
    "        dict1={'seher_temprator':seher_temprator, 'axsam_temp':axsam_temp,'aile':aile,'Gunesli_saat':Gunesli_saat,'intensity':intensity, 'per_hour':per_hour,'Altitute':Altitute, 'Windspeed':Windspeed}\n",
    "        df = pd.DataFrame(dict1)\n",
    "        model = pickle.load(open('Xgboost.pkl', 'rb'))\n",
    "        prediction = model.predict(df)\n",
    "        prediction = int(prediction[0])\n",
    "        return str(prediction)\n",
    "        # Let's load the package\n",
    "        \n",
    "        return str(prediction)\n",
    "\n",
    "#data api\n",
    "class getData(Resource):\n",
    "    def get(self):\n",
    "        df = pd.read_excel('../Downloads/data_predocted.xlsx')\n",
    "        #out = {'key':str}\n",
    "        res = df.to_json(orient='records')\n",
    "        #print( res)\n",
    "        return res"
   ]
  },
  {
   "cell_type": "code",
   "execution_count": null,
   "id": "9fc3965d",
   "metadata": {},
   "outputs": [],
   "source": []
  },
  {
   "cell_type": "code",
   "execution_count": 30,
   "id": "327798d9",
   "metadata": {
    "scrolled": true
   },
   "outputs": [
    {
     "name": "stdout",
     "output_type": "stream",
     "text": [
      " * Serving Flask app \"__main__\" (lazy loading)\n",
      " * Environment: production\n",
      "   WARNING: This is a development server. Do not use it in a production deployment.\n",
      "   Use a production WSGI server instead.\n",
      " * Debug mode: on\n"
     ]
    },
    {
     "name": "stderr",
     "output_type": "stream",
     "text": [
      " * Running on http://127.0.0.1:5000/ (Press CTRL+C to quit)\n",
      "127.0.0.1 - - [11/Sep/2022 13:36:34] \"\u001b[33mGET / HTTP/1.1\u001b[0m\" 404 -\n",
      "127.0.0.1 - - [11/Sep/2022 13:36:38] \"\u001b[37mGET /api HTTP/1.1\u001b[0m\" 200 -\n"
     ]
    }
   ],
   "source": [
    "api.add_resource(getData, '/api')\n",
    "\n",
    "if __name__ == '__main__':\n",
    "    app.run(debug=True,use_reloader=False)"
   ]
  },
  {
   "cell_type": "code",
   "execution_count": null,
   "id": "61cf584b",
   "metadata": {},
   "outputs": [],
   "source": []
  }
 ],
 "metadata": {
  "kernelspec": {
   "display_name": "Python 3",
   "language": "python",
   "name": "python3"
  },
  "language_info": {
   "codemirror_mode": {
    "name": "ipython",
    "version": 3
   },
   "file_extension": ".py",
   "mimetype": "text/x-python",
   "name": "python",
   "nbconvert_exporter": "python",
   "pygments_lexer": "ipython3",
   "version": "3.8.8"
  }
 },
 "nbformat": 4,
 "nbformat_minor": 5
}
